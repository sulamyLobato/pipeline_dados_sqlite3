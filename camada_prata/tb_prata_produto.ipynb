{
 "cells": [
  {
   "cell_type": "code",
   "execution_count": 1,
   "metadata": {},
   "outputs": [],
   "source": [
    "import sys\n",
    "sys.path.append('../lib') \n",
    "from gerenciamento_banco import *\n",
    "from ExtracaoDados import *\n",
    "from transformacao import *"
   ]
  },
  {
   "cell_type": "markdown",
   "metadata": {},
   "source": [
    "Criando o Banco de Dados"
   ]
  },
  {
   "cell_type": "code",
   "execution_count": 2,
   "metadata": {},
   "outputs": [
    {
     "name": "stdout",
     "output_type": "stream",
     "text": [
      "Banco criado com sucesso!\n"
     ]
    }
   ],
   "source": [
    "banco_prata = GerenciadorBanco(\"../banco_dados/db_prata.db\")\n",
    "banco_prata.criar_banco_dados()"
   ]
  },
  {
   "cell_type": "markdown",
   "metadata": {},
   "source": [
    "Criando tabela no Banco de Dados"
   ]
  },
  {
   "cell_type": "code",
   "execution_count": 3,
   "metadata": {},
   "outputs": [
    {
     "name": "stdout",
     "output_type": "stream",
     "text": [
      "Tabela 'produto' criada com sucesso!\n"
     ]
    }
   ],
   "source": [
    "colunas = {\n",
    "    \"id\": \"TEXT\",\n",
    "    \"categoria\": \"TEXT\",\n",
    "    \"subCategoria\": \"TEXT \",\n",
    "    \"nomeProduto\": \"TEXT\"\n",
    "}\n",
    "\n",
    "banco_prata.criar_tabela(\"produto\", colunas)"
   ]
  },
  {
   "cell_type": "markdown",
   "metadata": {},
   "source": [
    "Carregando tabela"
   ]
  },
  {
   "cell_type": "code",
   "execution_count": 4,
   "metadata": {},
   "outputs": [],
   "source": [
    "extracao = ExtracaoDados()"
   ]
  },
  {
   "cell_type": "code",
   "execution_count": 5,
   "metadata": {},
   "outputs": [],
   "source": [
    "df = extracao.carregar_tabela_sqlite3(tabela = \"produto\", nome_banco = \"../banco_dados/db_bronze.db\")\n"
   ]
  },
  {
   "cell_type": "code",
   "execution_count": 6,
   "metadata": {},
   "outputs": [
    {
     "data": {
      "text/html": [
       "<div>\n",
       "<style scoped>\n",
       "    .dataframe tbody tr th:only-of-type {\n",
       "        vertical-align: middle;\n",
       "    }\n",
       "\n",
       "    .dataframe tbody tr th {\n",
       "        vertical-align: top;\n",
       "    }\n",
       "\n",
       "    .dataframe thead th {\n",
       "        text-align: right;\n",
       "    }\n",
       "</style>\n",
       "<table border=\"1\" class=\"dataframe\">\n",
       "  <thead>\n",
       "    <tr style=\"text-align: right;\">\n",
       "      <th></th>\n",
       "      <th>ID_Produto</th>\n",
       "      <th>Categoria</th>\n",
       "      <th>SubCategoria</th>\n",
       "      <th>Nome_Produto</th>\n",
       "    </tr>\n",
       "  </thead>\n",
       "  <tbody>\n",
       "    <tr>\n",
       "      <th>0</th>\n",
       "      <td>TEC-AC-10003033</td>\n",
       "      <td>Tecnologia</td>\n",
       "      <td>Accessories</td>\n",
       "      <td>Plantronics CS510 - Over-the-Head monaural Wir...</td>\n",
       "    </tr>\n",
       "    <tr>\n",
       "      <th>1</th>\n",
       "      <td>TEC-AC-10003033</td>\n",
       "      <td>Tecnologia</td>\n",
       "      <td>Accessories</td>\n",
       "      <td>Plantronics CS510 - Over-the-Head monaural Wir...</td>\n",
       "    </tr>\n",
       "    <tr>\n",
       "      <th>2</th>\n",
       "      <td>FUR-CH-10003950</td>\n",
       "      <td>Moveis</td>\n",
       "      <td>Chairs</td>\n",
       "      <td>Novimex Executive Leather Armchair, Black</td>\n",
       "    </tr>\n",
       "    <tr>\n",
       "      <th>3</th>\n",
       "      <td>TEC-PH-10004664</td>\n",
       "      <td>Tecnologia</td>\n",
       "      <td>Phones</td>\n",
       "      <td>Nokia Smart Phone, with Caller ID</td>\n",
       "    </tr>\n",
       "    <tr>\n",
       "      <th>4</th>\n",
       "      <td>TEC-PH-10004583</td>\n",
       "      <td>Tecnologia</td>\n",
       "      <td>Phones</td>\n",
       "      <td>Motorola Smart Phone, Cordless</td>\n",
       "    </tr>\n",
       "  </tbody>\n",
       "</table>\n",
       "</div>"
      ],
      "text/plain": [
       "        ID_Produto   Categoria SubCategoria  \\\n",
       "0  TEC-AC-10003033  Tecnologia  Accessories   \n",
       "1  TEC-AC-10003033  Tecnologia  Accessories   \n",
       "2  FUR-CH-10003950      Moveis       Chairs   \n",
       "3  TEC-PH-10004664  Tecnologia       Phones   \n",
       "4  TEC-PH-10004583  Tecnologia       Phones   \n",
       "\n",
       "                                        Nome_Produto  \n",
       "0  Plantronics CS510 - Over-the-Head monaural Wir...  \n",
       "1  Plantronics CS510 - Over-the-Head monaural Wir...  \n",
       "2          Novimex Executive Leather Armchair, Black  \n",
       "3                  Nokia Smart Phone, with Caller ID  \n",
       "4                     Motorola Smart Phone, Cordless  "
      ]
     },
     "execution_count": 6,
     "metadata": {},
     "output_type": "execute_result"
    }
   ],
   "source": [
    "df.head()"
   ]
  },
  {
   "cell_type": "markdown",
   "metadata": {},
   "source": [
    "Renomear Colunas"
   ]
  },
  {
   "cell_type": "code",
   "execution_count": 7,
   "metadata": {},
   "outputs": [],
   "source": [
    "tf = Transformacao(df)"
   ]
  },
  {
   "cell_type": "code",
   "execution_count": 8,
   "metadata": {},
   "outputs": [],
   "source": [
    "mapeamento = {\n",
    "    \"ID_Produto\": \"id\",\n",
    "    \"Categoria\": \"categoria\",\n",
    "    \"SubCategoria\": \"subCategoria\",\n",
    "    \"Nome_Produto\" : \"nomeProduto\"\n",
    "\n",
    "}\n",
    "df=tf.renomear_colunas(mapeamento)"
   ]
  },
  {
   "cell_type": "markdown",
   "metadata": {},
   "source": [
    "Remover dados duplicados"
   ]
  },
  {
   "cell_type": "code",
   "execution_count": 9,
   "metadata": {},
   "outputs": [],
   "source": [
    "df = tf.remover_duplicatas(df)"
   ]
  },
  {
   "cell_type": "markdown",
   "metadata": {},
   "source": [
    "Salvar dados na tabela"
   ]
  },
  {
   "cell_type": "code",
   "execution_count": 10,
   "metadata": {},
   "outputs": [
    {
     "name": "stdout",
     "output_type": "stream",
     "text": [
      "10292 registros inseridos com sucesso!\n"
     ]
    }
   ],
   "source": [
    "banco_prata.inserir_dados(\"produto\", df)"
   ]
  }
 ],
 "metadata": {
  "kernelspec": {
   "display_name": "Python 3",
   "language": "python",
   "name": "python3"
  },
  "language_info": {
   "codemirror_mode": {
    "name": "ipython",
    "version": 3
   },
   "file_extension": ".py",
   "mimetype": "text/x-python",
   "name": "python",
   "nbconvert_exporter": "python",
   "pygments_lexer": "ipython3",
   "version": "3.13.0"
  }
 },
 "nbformat": 4,
 "nbformat_minor": 2
}
