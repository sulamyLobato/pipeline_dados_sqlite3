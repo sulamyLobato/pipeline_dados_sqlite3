{
 "cells": [
  {
   "cell_type": "code",
   "execution_count": 12,
   "metadata": {},
   "outputs": [],
   "source": [
    "import sys\n",
    "sys.path.append('../lib') \n",
    "from gerenciamento_banco import *\n",
    "from ExtracaoDados import *\n",
    "from transformacao import *"
   ]
  },
  {
   "cell_type": "markdown",
   "metadata": {},
   "source": [
    "Criando o Banco de Dados"
   ]
  },
  {
   "cell_type": "code",
   "execution_count": 13,
   "metadata": {},
   "outputs": [
    {
     "name": "stdout",
     "output_type": "stream",
     "text": [
      "Banco criado com sucesso!\n"
     ]
    }
   ],
   "source": [
    "banco_bronze = GerenciadorBanco(\"../banco_dados/db_bronze.db\")\n",
    "banco_bronze.criar_banco_dados()"
   ]
  },
  {
   "cell_type": "markdown",
   "metadata": {},
   "source": [
    "Criando tabela no Banco de Dados"
   ]
  },
  {
   "cell_type": "code",
   "execution_count": 14,
   "metadata": {},
   "outputs": [
    {
     "name": "stdout",
     "output_type": "stream",
     "text": [
      "Tabela 'produto' criada com sucesso!\n"
     ]
    }
   ],
   "source": [
    "colunas = {\n",
    "    \"ID_Produto\": \"TEXT\",\n",
    "    \"Categoria\": \"TEXT\",\n",
    "    \"SubCategoria\": \"TEXT \",\n",
    "    \"Nome_Produto\": \"TEXT\"\n",
    "}\n",
    "\n",
    "banco_bronze.criar_tabela(\"produto\", colunas)"
   ]
  },
  {
   "cell_type": "markdown",
   "metadata": {},
   "source": [
    "Extraindo Dados do arquivo Csv para ingerir na tabela produto"
   ]
  },
  {
   "cell_type": "code",
   "execution_count": 16,
   "metadata": {},
   "outputs": [],
   "source": [
    "extracao = ExtracaoDados()"
   ]
  },
  {
   "cell_type": "code",
   "execution_count": 17,
   "metadata": {},
   "outputs": [
    {
     "data": {
      "text/html": [
       "<div>\n",
       "<style scoped>\n",
       "    .dataframe tbody tr th:only-of-type {\n",
       "        vertical-align: middle;\n",
       "    }\n",
       "\n",
       "    .dataframe tbody tr th {\n",
       "        vertical-align: top;\n",
       "    }\n",
       "\n",
       "    .dataframe thead th {\n",
       "        text-align: right;\n",
       "    }\n",
       "</style>\n",
       "<table border=\"1\" class=\"dataframe\">\n",
       "  <thead>\n",
       "    <tr style=\"text-align: right;\">\n",
       "      <th></th>\n",
       "      <th>ID Produto</th>\n",
       "      <th>Categoria</th>\n",
       "      <th>SubCategoria</th>\n",
       "      <th>Nome Produto</th>\n",
       "    </tr>\n",
       "  </thead>\n",
       "  <tbody>\n",
       "    <tr>\n",
       "      <th>0</th>\n",
       "      <td>TEC-AC-10003033</td>\n",
       "      <td>Tecnologia</td>\n",
       "      <td>Accessories</td>\n",
       "      <td>Plantronics CS510 - Over-the-Head monaural Wir...</td>\n",
       "    </tr>\n",
       "    <tr>\n",
       "      <th>1</th>\n",
       "      <td>TEC-AC-10003033</td>\n",
       "      <td>Tecnologia</td>\n",
       "      <td>Accessories</td>\n",
       "      <td>Plantronics CS510 - Over-the-Head monaural Wir...</td>\n",
       "    </tr>\n",
       "    <tr>\n",
       "      <th>2</th>\n",
       "      <td>FUR-CH-10003950</td>\n",
       "      <td>Moveis</td>\n",
       "      <td>Chairs</td>\n",
       "      <td>Novimex Executive Leather Armchair, Black</td>\n",
       "    </tr>\n",
       "    <tr>\n",
       "      <th>3</th>\n",
       "      <td>TEC-PH-10004664</td>\n",
       "      <td>Tecnologia</td>\n",
       "      <td>Phones</td>\n",
       "      <td>Nokia Smart Phone, with Caller ID</td>\n",
       "    </tr>\n",
       "    <tr>\n",
       "      <th>4</th>\n",
       "      <td>TEC-PH-10004583</td>\n",
       "      <td>Tecnologia</td>\n",
       "      <td>Phones</td>\n",
       "      <td>Motorola Smart Phone, Cordless</td>\n",
       "    </tr>\n",
       "  </tbody>\n",
       "</table>\n",
       "</div>"
      ],
      "text/plain": [
       "        ID Produto   Categoria SubCategoria  \\\n",
       "0  TEC-AC-10003033  Tecnologia  Accessories   \n",
       "1  TEC-AC-10003033  Tecnologia  Accessories   \n",
       "2  FUR-CH-10003950      Moveis       Chairs   \n",
       "3  TEC-PH-10004664  Tecnologia       Phones   \n",
       "4  TEC-PH-10004583  Tecnologia       Phones   \n",
       "\n",
       "                                        Nome Produto  \n",
       "0  Plantronics CS510 - Over-the-Head monaural Wir...  \n",
       "1  Plantronics CS510 - Over-the-Head monaural Wir...  \n",
       "2          Novimex Executive Leather Armchair, Black  \n",
       "3                  Nokia Smart Phone, with Caller ID  \n",
       "4                     Motorola Smart Phone, Cordless  "
      ]
     },
     "execution_count": 17,
     "metadata": {},
     "output_type": "execute_result"
    }
   ],
   "source": [
    "df = extracao.carregar_csv(\"../base_csv/Produtos.csv\")\n",
    "df.head()"
   ]
  },
  {
   "cell_type": "code",
   "execution_count": 18,
   "metadata": {},
   "outputs": [],
   "source": [
    "tf = Transformacao(df)\n",
    "mapeamento = {\n",
    "    \"ID Produto\": \"ID_Produto\",\n",
    "    \"Categoria\": \"Categoria\",\n",
    "    \"SubCategoria\": \"SubCategoria\",\n",
    "    \"Nome Produto\" : \"Nome_Produto\"\n",
    "\n",
    "}\n",
    "df=tf.renomear_colunas(mapeamento)"
   ]
  },
  {
   "cell_type": "code",
   "execution_count": 19,
   "metadata": {},
   "outputs": [
    {
     "data": {
      "text/html": [
       "<div>\n",
       "<style scoped>\n",
       "    .dataframe tbody tr th:only-of-type {\n",
       "        vertical-align: middle;\n",
       "    }\n",
       "\n",
       "    .dataframe tbody tr th {\n",
       "        vertical-align: top;\n",
       "    }\n",
       "\n",
       "    .dataframe thead th {\n",
       "        text-align: right;\n",
       "    }\n",
       "</style>\n",
       "<table border=\"1\" class=\"dataframe\">\n",
       "  <thead>\n",
       "    <tr style=\"text-align: right;\">\n",
       "      <th></th>\n",
       "      <th>ID_Produto</th>\n",
       "      <th>Categoria</th>\n",
       "      <th>SubCategoria</th>\n",
       "      <th>Nome_Produto</th>\n",
       "    </tr>\n",
       "  </thead>\n",
       "  <tbody>\n",
       "    <tr>\n",
       "      <th>0</th>\n",
       "      <td>TEC-AC-10003033</td>\n",
       "      <td>Tecnologia</td>\n",
       "      <td>Accessories</td>\n",
       "      <td>Plantronics CS510 - Over-the-Head monaural Wir...</td>\n",
       "    </tr>\n",
       "    <tr>\n",
       "      <th>1</th>\n",
       "      <td>TEC-AC-10003033</td>\n",
       "      <td>Tecnologia</td>\n",
       "      <td>Accessories</td>\n",
       "      <td>Plantronics CS510 - Over-the-Head monaural Wir...</td>\n",
       "    </tr>\n",
       "    <tr>\n",
       "      <th>2</th>\n",
       "      <td>FUR-CH-10003950</td>\n",
       "      <td>Moveis</td>\n",
       "      <td>Chairs</td>\n",
       "      <td>Novimex Executive Leather Armchair, Black</td>\n",
       "    </tr>\n",
       "    <tr>\n",
       "      <th>3</th>\n",
       "      <td>TEC-PH-10004664</td>\n",
       "      <td>Tecnologia</td>\n",
       "      <td>Phones</td>\n",
       "      <td>Nokia Smart Phone, with Caller ID</td>\n",
       "    </tr>\n",
       "    <tr>\n",
       "      <th>4</th>\n",
       "      <td>TEC-PH-10004583</td>\n",
       "      <td>Tecnologia</td>\n",
       "      <td>Phones</td>\n",
       "      <td>Motorola Smart Phone, Cordless</td>\n",
       "    </tr>\n",
       "  </tbody>\n",
       "</table>\n",
       "</div>"
      ],
      "text/plain": [
       "        ID_Produto   Categoria SubCategoria  \\\n",
       "0  TEC-AC-10003033  Tecnologia  Accessories   \n",
       "1  TEC-AC-10003033  Tecnologia  Accessories   \n",
       "2  FUR-CH-10003950      Moveis       Chairs   \n",
       "3  TEC-PH-10004664  Tecnologia       Phones   \n",
       "4  TEC-PH-10004583  Tecnologia       Phones   \n",
       "\n",
       "                                        Nome_Produto  \n",
       "0  Plantronics CS510 - Over-the-Head monaural Wir...  \n",
       "1  Plantronics CS510 - Over-the-Head monaural Wir...  \n",
       "2          Novimex Executive Leather Armchair, Black  \n",
       "3                  Nokia Smart Phone, with Caller ID  \n",
       "4                     Motorola Smart Phone, Cordless  "
      ]
     },
     "execution_count": 19,
     "metadata": {},
     "output_type": "execute_result"
    }
   ],
   "source": [
    "df.head()"
   ]
  },
  {
   "cell_type": "markdown",
   "metadata": {},
   "source": [
    "Inserindo Dados na tabela\n"
   ]
  },
  {
   "cell_type": "code",
   "execution_count": 20,
   "metadata": {},
   "outputs": [
    {
     "name": "stdout",
     "output_type": "stream",
     "text": [
      "10293 registros inseridos com sucesso!\n"
     ]
    }
   ],
   "source": [
    "banco_bronze.inserir_dados(\"produto\", df)"
   ]
  },
  {
   "cell_type": "code",
   "execution_count": 21,
   "metadata": {},
   "outputs": [
    {
     "data": {
      "text/html": [
       "<div>\n",
       "<style scoped>\n",
       "    .dataframe tbody tr th:only-of-type {\n",
       "        vertical-align: middle;\n",
       "    }\n",
       "\n",
       "    .dataframe tbody tr th {\n",
       "        vertical-align: top;\n",
       "    }\n",
       "\n",
       "    .dataframe thead th {\n",
       "        text-align: right;\n",
       "    }\n",
       "</style>\n",
       "<table border=\"1\" class=\"dataframe\">\n",
       "  <thead>\n",
       "    <tr style=\"text-align: right;\">\n",
       "      <th></th>\n",
       "      <th>ID_Produto</th>\n",
       "      <th>Categoria</th>\n",
       "      <th>SubCategoria</th>\n",
       "      <th>Nome_Produto</th>\n",
       "    </tr>\n",
       "  </thead>\n",
       "  <tbody>\n",
       "    <tr>\n",
       "      <th>0</th>\n",
       "      <td>TEC-AC-10003033</td>\n",
       "      <td>Tecnologia</td>\n",
       "      <td>Accessories</td>\n",
       "      <td>Plantronics CS510 - Over-the-Head monaural Wir...</td>\n",
       "    </tr>\n",
       "    <tr>\n",
       "      <th>1</th>\n",
       "      <td>TEC-AC-10003033</td>\n",
       "      <td>Tecnologia</td>\n",
       "      <td>Accessories</td>\n",
       "      <td>Plantronics CS510 - Over-the-Head monaural Wir...</td>\n",
       "    </tr>\n",
       "    <tr>\n",
       "      <th>2</th>\n",
       "      <td>FUR-CH-10003950</td>\n",
       "      <td>Moveis</td>\n",
       "      <td>Chairs</td>\n",
       "      <td>Novimex Executive Leather Armchair, Black</td>\n",
       "    </tr>\n",
       "    <tr>\n",
       "      <th>3</th>\n",
       "      <td>TEC-PH-10004664</td>\n",
       "      <td>Tecnologia</td>\n",
       "      <td>Phones</td>\n",
       "      <td>Nokia Smart Phone, with Caller ID</td>\n",
       "    </tr>\n",
       "    <tr>\n",
       "      <th>4</th>\n",
       "      <td>TEC-PH-10004583</td>\n",
       "      <td>Tecnologia</td>\n",
       "      <td>Phones</td>\n",
       "      <td>Motorola Smart Phone, Cordless</td>\n",
       "    </tr>\n",
       "    <tr>\n",
       "      <th>...</th>\n",
       "      <td>...</td>\n",
       "      <td>...</td>\n",
       "      <td>...</td>\n",
       "      <td>...</td>\n",
       "    </tr>\n",
       "    <tr>\n",
       "      <th>10288</th>\n",
       "      <td>OFF-FA-10004112</td>\n",
       "      <td>Material de Escritorio</td>\n",
       "      <td>Fasteners</td>\n",
       "      <td>Stockwell Staples, 12 Pack</td>\n",
       "    </tr>\n",
       "    <tr>\n",
       "      <th>10289</th>\n",
       "      <td>OFF-BI-10003253</td>\n",
       "      <td>Material de Escritorio</td>\n",
       "      <td>Binders</td>\n",
       "      <td>Ibico Index Tab, Economy</td>\n",
       "    </tr>\n",
       "    <tr>\n",
       "      <th>10290</th>\n",
       "      <td>OFF-BI-10002510</td>\n",
       "      <td>Material de Escritorio</td>\n",
       "      <td>Binders</td>\n",
       "      <td>Acco Index Tab, Clear</td>\n",
       "    </tr>\n",
       "    <tr>\n",
       "      <th>10291</th>\n",
       "      <td>FUR-ADV-10002329</td>\n",
       "      <td>Moveis</td>\n",
       "      <td>Furnishings</td>\n",
       "      <td>Advantus Light Bulb, Erganomic</td>\n",
       "    </tr>\n",
       "    <tr>\n",
       "      <th>10292</th>\n",
       "      <td>OFF-AP-10002203</td>\n",
       "      <td>Material de Escritorio</td>\n",
       "      <td>Appliances</td>\n",
       "      <td>Eureka Disposable Bags for Sanitaire Vibra Gro...</td>\n",
       "    </tr>\n",
       "  </tbody>\n",
       "</table>\n",
       "<p>10293 rows × 4 columns</p>\n",
       "</div>"
      ],
      "text/plain": [
       "             ID_Produto               Categoria SubCategoria  \\\n",
       "0       TEC-AC-10003033              Tecnologia  Accessories   \n",
       "1       TEC-AC-10003033              Tecnologia  Accessories   \n",
       "2       FUR-CH-10003950                  Moveis       Chairs   \n",
       "3       TEC-PH-10004664              Tecnologia       Phones   \n",
       "4       TEC-PH-10004583              Tecnologia       Phones   \n",
       "...                 ...                     ...          ...   \n",
       "10288   OFF-FA-10004112  Material de Escritorio    Fasteners   \n",
       "10289   OFF-BI-10003253  Material de Escritorio      Binders   \n",
       "10290   OFF-BI-10002510  Material de Escritorio      Binders   \n",
       "10291  FUR-ADV-10002329                  Moveis  Furnishings   \n",
       "10292   OFF-AP-10002203  Material de Escritorio   Appliances   \n",
       "\n",
       "                                            Nome_Produto  \n",
       "0      Plantronics CS510 - Over-the-Head monaural Wir...  \n",
       "1      Plantronics CS510 - Over-the-Head monaural Wir...  \n",
       "2              Novimex Executive Leather Armchair, Black  \n",
       "3                      Nokia Smart Phone, with Caller ID  \n",
       "4                         Motorola Smart Phone, Cordless  \n",
       "...                                                  ...  \n",
       "10288                         Stockwell Staples, 12 Pack  \n",
       "10289                           Ibico Index Tab, Economy  \n",
       "10290                              Acco Index Tab, Clear  \n",
       "10291                     Advantus Light Bulb, Erganomic  \n",
       "10292  Eureka Disposable Bags for Sanitaire Vibra Gro...  \n",
       "\n",
       "[10293 rows x 4 columns]"
      ]
     },
     "execution_count": 21,
     "metadata": {},
     "output_type": "execute_result"
    }
   ],
   "source": [
    "banco_bronze.listar_dados(\"produto\")"
   ]
  }
 ],
 "metadata": {
  "kernelspec": {
   "display_name": "Python 3",
   "language": "python",
   "name": "python3"
  },
  "language_info": {
   "codemirror_mode": {
    "name": "ipython",
    "version": 3
   },
   "file_extension": ".py",
   "mimetype": "text/x-python",
   "name": "python",
   "nbconvert_exporter": "python",
   "pygments_lexer": "ipython3",
   "version": "3.13.0"
  }
 },
 "nbformat": 4,
 "nbformat_minor": 2
}
