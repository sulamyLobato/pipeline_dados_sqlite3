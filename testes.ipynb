{
 "cells": [
  {
   "cell_type": "markdown",
   "metadata": {},
   "source": [
    " # Script principal que executa o ETL"
   ]
  },
  {
   "cell_type": "code",
   "execution_count": 1,
   "metadata": {},
   "outputs": [],
   "source": [
    "\n",
    "import sys\n",
    "sys.path.append('./lib') \n",
    "from gerenciamento_banco import *\n",
    "from extracao import *\n"
   ]
  },
  {
   "cell_type": "code",
   "execution_count": 2,
   "metadata": {},
   "outputs": [],
   "source": [
    "banco = GerenciadorBanco(\"base_geral.db\")"
   ]
  },
  {
   "cell_type": "code",
   "execution_count": 7,
   "metadata": {},
   "outputs": [],
   "source": [
    "banco.listar_tabelas()"
   ]
  },
  {
   "cell_type": "code",
   "execution_count": 4,
   "metadata": {},
   "outputs": [
    {
     "name": "stdout",
     "output_type": "stream",
     "text": [
      "Tabela 'produto' criada com sucesso!\n"
     ]
    }
   ],
   "source": [
    "colunas = {\n",
    "    \"id\": \"TEXT PRIMARY KEY\",\n",
    "    \"categoria\": \"TEXT NOT NULL\",\n",
    "    \"subCategoria\": \"TEXT NOT NULL\",\n",
    "    \"nomeProduto\": \"TEXT NOT NULL\"\n",
    "}\n",
    "\n",
    "banco.criar_tabela(\"produto\", colunas)"
   ]
  },
  {
   "cell_type": "code",
   "execution_count": 5,
   "metadata": {},
   "outputs": [
    {
     "name": "stdout",
     "output_type": "stream",
     "text": [
      "produto\n"
     ]
    }
   ],
   "source": [
    "banco.listar_tabelas()"
   ]
  },
  {
   "cell_type": "code",
   "execution_count": null,
   "metadata": {},
   "outputs": [],
   "source": [
    "extracao = ExtracaoDados()"
   ]
  },
  {
   "cell_type": "code",
   "execution_count": null,
   "metadata": {},
   "outputs": [],
   "source": []
  },
  {
   "cell_type": "code",
   "execution_count": 8,
   "metadata": {},
   "outputs": [
    {
     "name": "stdout",
     "output_type": "stream",
     "text": [
      "Empty DataFrame\n",
      "Columns: [id, categoria, subCategoria, nomeProduto]\n",
      "Index: []\n"
     ]
    }
   ],
   "source": [
    "df_produtos = extracao.carregar_tabela_sqlite3(\"produto\", \"base_geral.db\")\n",
    "print(df_produtos)"
   ]
  },
  {
   "cell_type": "code",
   "execution_count": 9,
   "metadata": {},
   "outputs": [
    {
     "data": {
      "text/html": [
       "<div>\n",
       "<style scoped>\n",
       "    .dataframe tbody tr th:only-of-type {\n",
       "        vertical-align: middle;\n",
       "    }\n",
       "\n",
       "    .dataframe tbody tr th {\n",
       "        vertical-align: top;\n",
       "    }\n",
       "\n",
       "    .dataframe thead th {\n",
       "        text-align: right;\n",
       "    }\n",
       "</style>\n",
       "<table border=\"1\" class=\"dataframe\">\n",
       "  <thead>\n",
       "    <tr style=\"text-align: right;\">\n",
       "      <th></th>\n",
       "      <th>ID Produto</th>\n",
       "      <th>Categoria</th>\n",
       "      <th>SubCategoria</th>\n",
       "      <th>Nome Produto</th>\n",
       "    </tr>\n",
       "  </thead>\n",
       "  <tbody>\n",
       "    <tr>\n",
       "      <th>0</th>\n",
       "      <td>TEC-AC-10003033</td>\n",
       "      <td>Tecnologia</td>\n",
       "      <td>Accessories</td>\n",
       "      <td>Plantronics CS510 - Over-the-Head monaural Wir...</td>\n",
       "    </tr>\n",
       "    <tr>\n",
       "      <th>1</th>\n",
       "      <td>TEC-AC-10003033</td>\n",
       "      <td>Tecnologia</td>\n",
       "      <td>Accessories</td>\n",
       "      <td>Plantronics CS510 - Over-the-Head monaural Wir...</td>\n",
       "    </tr>\n",
       "    <tr>\n",
       "      <th>2</th>\n",
       "      <td>FUR-CH-10003950</td>\n",
       "      <td>Moveis</td>\n",
       "      <td>Chairs</td>\n",
       "      <td>Novimex Executive Leather Armchair, Black</td>\n",
       "    </tr>\n",
       "    <tr>\n",
       "      <th>3</th>\n",
       "      <td>TEC-PH-10004664</td>\n",
       "      <td>Tecnologia</td>\n",
       "      <td>Phones</td>\n",
       "      <td>Nokia Smart Phone, with Caller ID</td>\n",
       "    </tr>\n",
       "    <tr>\n",
       "      <th>4</th>\n",
       "      <td>TEC-PH-10004583</td>\n",
       "      <td>Tecnologia</td>\n",
       "      <td>Phones</td>\n",
       "      <td>Motorola Smart Phone, Cordless</td>\n",
       "    </tr>\n",
       "  </tbody>\n",
       "</table>\n",
       "</div>"
      ],
      "text/plain": [
       "        ID Produto   Categoria SubCategoria  \\\n",
       "0  TEC-AC-10003033  Tecnologia  Accessories   \n",
       "1  TEC-AC-10003033  Tecnologia  Accessories   \n",
       "2  FUR-CH-10003950      Moveis       Chairs   \n",
       "3  TEC-PH-10004664  Tecnologia       Phones   \n",
       "4  TEC-PH-10004583  Tecnologia       Phones   \n",
       "\n",
       "                                        Nome Produto  \n",
       "0  Plantronics CS510 - Over-the-Head monaural Wir...  \n",
       "1  Plantronics CS510 - Over-the-Head monaural Wir...  \n",
       "2          Novimex Executive Leather Armchair, Black  \n",
       "3                  Nokia Smart Phone, with Caller ID  \n",
       "4                     Motorola Smart Phone, Cordless  "
      ]
     },
     "execution_count": 9,
     "metadata": {},
     "output_type": "execute_result"
    }
   ],
   "source": [
    "df = extracao.carregar_csv(\"scripts1\\\\Produtos.csv\")\n",
    "df.head()"
   ]
  }
 ],
 "metadata": {
  "kernelspec": {
   "display_name": "Python 3",
   "language": "python",
   "name": "python3"
  },
  "language_info": {
   "codemirror_mode": {
    "name": "ipython",
    "version": 3
   },
   "file_extension": ".py",
   "mimetype": "text/x-python",
   "name": "python",
   "nbconvert_exporter": "python",
   "pygments_lexer": "ipython3",
   "version": "3.13.0"
  }
 },
 "nbformat": 4,
 "nbformat_minor": 2
}
